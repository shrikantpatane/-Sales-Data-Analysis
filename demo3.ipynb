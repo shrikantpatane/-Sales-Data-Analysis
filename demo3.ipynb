{
  "cells": [
    {
      "cell_type": "markdown",
      "id": "CsoZIJdPiyXO",
      "metadata": {
        "id": "CsoZIJdPiyXO"
      },
      "source": [
        "## **Test-1 Part-A**\n",
        "#### Shrikant_Patane"
      ]
    },
    {
      "cell_type": "markdown",
      "id": "O9aRn1Q-kAsk",
      "metadata": {
        "id": "O9aRn1Q-kAsk"
      },
      "source": [
        "##### **PLEASE MAKE SURE TO UPLOAD THE sales_dataset.csv TO RUN THE CODE.**"
      ]
    },
    {
      "cell_type": "code",
      "execution_count": null,
      "id": "f0d9e3ec",
      "metadata": {
        "id": "f0d9e3ec"
      },
      "outputs": [],
      "source": [
        "import pandas as pd\n",
        "import numpy as np\n",
        "import seaborn as sns\n",
        "from datetime import datetime\n",
        "import warnings\n",
        "warnings.filterwarnings(\"ignore\")\n",
        "import matplotlib.pyplot as plt\n",
        "from scipy import stats"
      ]
    },
    {
      "cell_type": "code",
      "execution_count": null,
      "id": "53da6f92",
      "metadata": {
        "colab": {
          "base_uri": "https://localhost:8080/",
          "height": 499
        },
        "id": "53da6f92",
        "outputId": "8d3c1b5b-36ac-4e4d-aa1a-42f27973fd62"
      },
      "outputs": [
        {
          "data": {
            "text/html": [
              "<div>\n",
              "<style scoped>\n",
              "    .dataframe tbody tr th:only-of-type {\n",
              "        vertical-align: middle;\n",
              "    }\n",
              "\n",
              "    .dataframe tbody tr th {\n",
              "        vertical-align: top;\n",
              "    }\n",
              "\n",
              "    .dataframe thead th {\n",
              "        text-align: right;\n",
              "    }\n",
              "</style>\n",
              "<table border=\"1\" class=\"dataframe\">\n",
              "  <thead>\n",
              "    <tr style=\"text-align: right;\">\n",
              "      <th></th>\n",
              "      <th>Order ID</th>\n",
              "      <th>Date</th>\n",
              "      <th>Status</th>\n",
              "      <th>Fulfilment</th>\n",
              "      <th>Sales Channel</th>\n",
              "      <th>ship-service-level</th>\n",
              "      <th>Style</th>\n",
              "      <th>SKU</th>\n",
              "      <th>Category</th>\n",
              "      <th>Size</th>\n",
              "      <th>...</th>\n",
              "      <th>currency</th>\n",
              "      <th>Amount</th>\n",
              "      <th>ship-city</th>\n",
              "      <th>ship-state</th>\n",
              "      <th>ship-postal-code</th>\n",
              "      <th>ship-country</th>\n",
              "      <th>promotion-ids</th>\n",
              "      <th>B2B</th>\n",
              "      <th>fulfilled-by</th>\n",
              "      <th>Unnamed: 22</th>\n",
              "    </tr>\n",
              "  </thead>\n",
              "  <tbody>\n",
              "    <tr>\n",
              "      <th>0</th>\n",
              "      <td>405-8078784-5731545</td>\n",
              "      <td>04-30-22</td>\n",
              "      <td>Cancelled</td>\n",
              "      <td>Merchant</td>\n",
              "      <td>Amazon.in</td>\n",
              "      <td>Standard</td>\n",
              "      <td>SET389</td>\n",
              "      <td>SET389-KR-NP-S</td>\n",
              "      <td>Set</td>\n",
              "      <td>S</td>\n",
              "      <td>...</td>\n",
              "      <td>INR</td>\n",
              "      <td>647.62</td>\n",
              "      <td>MUMBAI</td>\n",
              "      <td>MAHARASHTRA</td>\n",
              "      <td>400081.0</td>\n",
              "      <td>IN</td>\n",
              "      <td>NaN</td>\n",
              "      <td>False</td>\n",
              "      <td>Easy Ship</td>\n",
              "      <td>NaN</td>\n",
              "    </tr>\n",
              "    <tr>\n",
              "      <th>1</th>\n",
              "      <td>171-9198151-1101146</td>\n",
              "      <td>04-30-22</td>\n",
              "      <td>Shipped - Delivered to Buyer</td>\n",
              "      <td>Merchant</td>\n",
              "      <td>Amazon.in</td>\n",
              "      <td>Standard</td>\n",
              "      <td>JNE3781</td>\n",
              "      <td>JNE3781-KR-XXXL</td>\n",
              "      <td>kurta</td>\n",
              "      <td>3XL</td>\n",
              "      <td>...</td>\n",
              "      <td>INR</td>\n",
              "      <td>406.00</td>\n",
              "      <td>BENGALURU</td>\n",
              "      <td>KARNATAKA</td>\n",
              "      <td>560085.0</td>\n",
              "      <td>IN</td>\n",
              "      <td>Amazon PLCC Free-Financing Universal Merchant ...</td>\n",
              "      <td>False</td>\n",
              "      <td>Easy Ship</td>\n",
              "      <td>NaN</td>\n",
              "    </tr>\n",
              "    <tr>\n",
              "      <th>2</th>\n",
              "      <td>404-0687676-7273146</td>\n",
              "      <td>04-30-22</td>\n",
              "      <td>Shipped</td>\n",
              "      <td>Amazon</td>\n",
              "      <td>Amazon.in</td>\n",
              "      <td>Expedited</td>\n",
              "      <td>JNE3371</td>\n",
              "      <td>JNE3371-KR-XL</td>\n",
              "      <td>kurta</td>\n",
              "      <td>XL</td>\n",
              "      <td>...</td>\n",
              "      <td>INR</td>\n",
              "      <td>329.00</td>\n",
              "      <td>NAVI MUMBAI</td>\n",
              "      <td>MAHARASHTRA</td>\n",
              "      <td>410210.0</td>\n",
              "      <td>IN</td>\n",
              "      <td>IN Core Free Shipping 2015/04/08 23-48-5-108</td>\n",
              "      <td>True</td>\n",
              "      <td>NaN</td>\n",
              "      <td>NaN</td>\n",
              "    </tr>\n",
              "    <tr>\n",
              "      <th>3</th>\n",
              "      <td>403-9615377-8133951</td>\n",
              "      <td>04-30-22</td>\n",
              "      <td>Cancelled</td>\n",
              "      <td>Merchant</td>\n",
              "      <td>Amazon.in</td>\n",
              "      <td>Standard</td>\n",
              "      <td>J0341</td>\n",
              "      <td>J0341-DR-L</td>\n",
              "      <td>Western Dress</td>\n",
              "      <td>L</td>\n",
              "      <td>...</td>\n",
              "      <td>INR</td>\n",
              "      <td>753.33</td>\n",
              "      <td>PUDUCHERRY</td>\n",
              "      <td>PUDUCHERRY</td>\n",
              "      <td>605008.0</td>\n",
              "      <td>IN</td>\n",
              "      <td>NaN</td>\n",
              "      <td>False</td>\n",
              "      <td>Easy Ship</td>\n",
              "      <td>NaN</td>\n",
              "    </tr>\n",
              "    <tr>\n",
              "      <th>4</th>\n",
              "      <td>407-1069790-7240320</td>\n",
              "      <td>04-30-22</td>\n",
              "      <td>Shipped</td>\n",
              "      <td>Amazon</td>\n",
              "      <td>Amazon.in</td>\n",
              "      <td>Expedited</td>\n",
              "      <td>JNE3671</td>\n",
              "      <td>JNE3671-TU-XXXL</td>\n",
              "      <td>Top</td>\n",
              "      <td>3XL</td>\n",
              "      <td>...</td>\n",
              "      <td>INR</td>\n",
              "      <td>574.00</td>\n",
              "      <td>CHENNAI</td>\n",
              "      <td>TAMIL NADU</td>\n",
              "      <td>600073.0</td>\n",
              "      <td>IN</td>\n",
              "      <td>NaN</td>\n",
              "      <td>False</td>\n",
              "      <td>NaN</td>\n",
              "      <td>NaN</td>\n",
              "    </tr>\n",
              "  </tbody>\n",
              "</table>\n",
              "<p>5 rows × 23 columns</p>\n",
              "</div>"
            ],
            "text/plain": [
              "              Order ID      Date                        Status Fulfilment  \\\n",
              "0  405-8078784-5731545  04-30-22                     Cancelled   Merchant   \n",
              "1  171-9198151-1101146  04-30-22  Shipped - Delivered to Buyer   Merchant   \n",
              "2  404-0687676-7273146  04-30-22                       Shipped     Amazon   \n",
              "3  403-9615377-8133951  04-30-22                     Cancelled   Merchant   \n",
              "4  407-1069790-7240320  04-30-22                       Shipped     Amazon   \n",
              "\n",
              "  Sales Channel  ship-service-level    Style              SKU       Category  \\\n",
              "0      Amazon.in           Standard   SET389   SET389-KR-NP-S            Set   \n",
              "1      Amazon.in           Standard  JNE3781  JNE3781-KR-XXXL          kurta   \n",
              "2      Amazon.in          Expedited  JNE3371    JNE3371-KR-XL          kurta   \n",
              "3      Amazon.in           Standard    J0341       J0341-DR-L  Western Dress   \n",
              "4      Amazon.in          Expedited  JNE3671  JNE3671-TU-XXXL            Top   \n",
              "\n",
              "  Size  ... currency  Amount    ship-city   ship-state  ship-postal-code  \\\n",
              "0    S  ...      INR  647.62       MUMBAI  MAHARASHTRA          400081.0   \n",
              "1  3XL  ...      INR  406.00    BENGALURU    KARNATAKA          560085.0   \n",
              "2   XL  ...      INR  329.00  NAVI MUMBAI  MAHARASHTRA          410210.0   \n",
              "3    L  ...      INR  753.33   PUDUCHERRY   PUDUCHERRY          605008.0   \n",
              "4  3XL  ...      INR  574.00      CHENNAI   TAMIL NADU          600073.0   \n",
              "\n",
              "  ship-country                                      promotion-ids    B2B  \\\n",
              "0           IN                                                NaN  False   \n",
              "1           IN  Amazon PLCC Free-Financing Universal Merchant ...  False   \n",
              "2           IN       IN Core Free Shipping 2015/04/08 23-48-5-108   True   \n",
              "3           IN                                                NaN  False   \n",
              "4           IN                                                NaN  False   \n",
              "\n",
              "  fulfilled-by Unnamed: 22  \n",
              "0    Easy Ship         NaN  \n",
              "1    Easy Ship         NaN  \n",
              "2          NaN         NaN  \n",
              "3    Easy Ship         NaN  \n",
              "4          NaN         NaN  \n",
              "\n",
              "[5 rows x 23 columns]"
            ]
          },
          "execution_count": 3,
          "metadata": {},
          "output_type": "execute_result"
        }
      ],
      "source": [
        "df=pd.read_csv(r'/content/sales_dataset.csv')\n",
        "df.head(5)"
      ]
    },
    {
      "cell_type": "code",
      "execution_count": null,
      "id": "3dbf589d",
      "metadata": {
        "colab": {
          "base_uri": "https://localhost:8080/"
        },
        "id": "3dbf589d",
        "outputId": "ef0d3d69-4c83-445a-b25f-492d6dca0589"
      },
      "outputs": [
        {
          "name": "stdout",
          "output_type": "stream",
          "text": [
            "<class 'pandas.core.frame.DataFrame'>\n",
            "RangeIndex: 128949 entries, 0 to 128948\n",
            "Data columns (total 23 columns):\n",
            " #   Column              Non-Null Count   Dtype  \n",
            "---  ------              --------------   -----  \n",
            " 0   Order ID            128949 non-null  object \n",
            " 1   Date                128949 non-null  object \n",
            " 2   Status              128949 non-null  object \n",
            " 3   Fulfilment          128949 non-null  object \n",
            " 4   Sales Channel       128949 non-null  object \n",
            " 5   ship-service-level  128949 non-null  object \n",
            " 6   Style               128949 non-null  object \n",
            " 7   SKU                 128949 non-null  object \n",
            " 8   Category            128949 non-null  object \n",
            " 9   Size                128949 non-null  object \n",
            " 10  ASIN                128949 non-null  object \n",
            " 11  Courier Status      122078 non-null  object \n",
            " 12  Qty                 128949 non-null  int64  \n",
            " 13  currency            121155 non-null  object \n",
            " 14  Amount              121155 non-null  float64\n",
            " 15  ship-city           128916 non-null  object \n",
            " 16  ship-state          128916 non-null  object \n",
            " 17  ship-postal-code    128916 non-null  float64\n",
            " 18  ship-country        128916 non-null  object \n",
            " 19  promotion-ids       79807 non-null   object \n",
            " 20  B2B                 128949 non-null  bool   \n",
            " 21  fulfilled-by        39270 non-null   object \n",
            " 22  Unnamed: 22         79908 non-null   object \n",
            "dtypes: bool(1), float64(2), int64(1), object(19)\n",
            "memory usage: 21.8+ MB\n"
          ]
        }
      ],
      "source": [
        "df.info()"
      ]
    },
    {
      "cell_type": "code",
      "execution_count": null,
      "id": "iiRBCrr_XOr8",
      "metadata": {
        "colab": {
          "base_uri": "https://localhost:8080/",
          "height": 300
        },
        "id": "iiRBCrr_XOr8",
        "outputId": "44f5f51b-42e3-4304-9615-db4229badfb6"
      },
      "outputs": [
        {
          "data": {
            "text/html": [
              "<div>\n",
              "<style scoped>\n",
              "    .dataframe tbody tr th:only-of-type {\n",
              "        vertical-align: middle;\n",
              "    }\n",
              "\n",
              "    .dataframe tbody tr th {\n",
              "        vertical-align: top;\n",
              "    }\n",
              "\n",
              "    .dataframe thead th {\n",
              "        text-align: right;\n",
              "    }\n",
              "</style>\n",
              "<table border=\"1\" class=\"dataframe\">\n",
              "  <thead>\n",
              "    <tr style=\"text-align: right;\">\n",
              "      <th></th>\n",
              "      <th>Qty</th>\n",
              "      <th>Amount</th>\n",
              "      <th>ship-postal-code</th>\n",
              "    </tr>\n",
              "  </thead>\n",
              "  <tbody>\n",
              "    <tr>\n",
              "      <th>count</th>\n",
              "      <td>128949.000000</td>\n",
              "      <td>121155.000000</td>\n",
              "      <td>128916.000000</td>\n",
              "    </tr>\n",
              "    <tr>\n",
              "      <th>mean</th>\n",
              "      <td>0.904629</td>\n",
              "      <td>648.550806</td>\n",
              "      <td>463978.298008</td>\n",
              "    </tr>\n",
              "    <tr>\n",
              "      <th>std</th>\n",
              "      <td>0.314782</td>\n",
              "      <td>281.218324</td>\n",
              "      <td>191473.322953</td>\n",
              "    </tr>\n",
              "    <tr>\n",
              "      <th>min</th>\n",
              "      <td>0.000000</td>\n",
              "      <td>0.000000</td>\n",
              "      <td>110001.000000</td>\n",
              "    </tr>\n",
              "    <tr>\n",
              "      <th>25%</th>\n",
              "      <td>1.000000</td>\n",
              "      <td>449.000000</td>\n",
              "      <td>382421.000000</td>\n",
              "    </tr>\n",
              "    <tr>\n",
              "      <th>50%</th>\n",
              "      <td>1.000000</td>\n",
              "      <td>605.000000</td>\n",
              "      <td>500033.000000</td>\n",
              "    </tr>\n",
              "    <tr>\n",
              "      <th>75%</th>\n",
              "      <td>1.000000</td>\n",
              "      <td>788.000000</td>\n",
              "      <td>600024.000000</td>\n",
              "    </tr>\n",
              "    <tr>\n",
              "      <th>max</th>\n",
              "      <td>15.000000</td>\n",
              "      <td>5584.000000</td>\n",
              "      <td>989898.000000</td>\n",
              "    </tr>\n",
              "  </tbody>\n",
              "</table>\n",
              "</div>"
            ],
            "text/plain": [
              "                 Qty         Amount  ship-postal-code\n",
              "count  128949.000000  121155.000000     128916.000000\n",
              "mean        0.904629     648.550806     463978.298008\n",
              "std         0.314782     281.218324     191473.322953\n",
              "min         0.000000       0.000000     110001.000000\n",
              "25%         1.000000     449.000000     382421.000000\n",
              "50%         1.000000     605.000000     500033.000000\n",
              "75%         1.000000     788.000000     600024.000000\n",
              "max        15.000000    5584.000000     989898.000000"
            ]
          },
          "execution_count": 5,
          "metadata": {},
          "output_type": "execute_result"
        }
      ],
      "source": [
        "df.describe()"
      ]
    },
    {
      "cell_type": "code",
      "execution_count": null,
      "id": "83c2f55b",
      "metadata": {
        "colab": {
          "base_uri": "https://localhost:8080/"
        },
        "id": "83c2f55b",
        "outputId": "9ac811f7-2d20-47e2-94c5-6259317bf2ec"
      },
      "outputs": [
        {
          "data": {
            "text/plain": [
              "(128949, 23)"
            ]
          },
          "execution_count": 6,
          "metadata": {},
          "output_type": "execute_result"
        }
      ],
      "source": [
        "df.shape"
      ]
    },
    {
      "cell_type": "code",
      "execution_count": null,
      "id": "54cbbd7b",
      "metadata": {
        "colab": {
          "base_uri": "https://localhost:8080/",
          "height": 805
        },
        "id": "54cbbd7b",
        "outputId": "72b6d19c-39a6-4481-8f76-cda975b2f28d"
      },
      "outputs": [
        {
          "data": {
            "text/plain": [
              "Order ID                  0\n",
              "Date                      0\n",
              "Status                    0\n",
              "Fulfilment                0\n",
              "Sales Channel             0\n",
              "ship-service-level        0\n",
              "Style                     0\n",
              "SKU                       0\n",
              "Category                  0\n",
              "Size                      0\n",
              "ASIN                      0\n",
              "Courier Status         6871\n",
              "Qty                       0\n",
              "currency               7794\n",
              "Amount                 7794\n",
              "ship-city                33\n",
              "ship-state               33\n",
              "ship-postal-code         33\n",
              "ship-country             33\n",
              "promotion-ids         49142\n",
              "B2B                       0\n",
              "fulfilled-by          89679\n",
              "Unnamed: 22           49041\n",
              "dtype: int64"
            ]
          },
          "execution_count": 7,
          "metadata": {},
          "output_type": "execute_result"
        }
      ],
      "source": [
        "df.isnull().sum()"
      ]
    },
    {
      "cell_type": "code",
      "execution_count": null,
      "id": "y_Ih9N2ZXZry",
      "metadata": {
        "id": "y_Ih9N2ZXZry"
      },
      "outputs": [],
      "source": [
        "df.columns=df.columns.str.strip().str.title().str.replace(\"-\",'').str.replace(\" \",\"_\")"
      ]
    },
    {
      "cell_type": "code",
      "execution_count": null,
      "id": "J1xs6MU4XbGD",
      "metadata": {
        "colab": {
          "base_uri": "https://localhost:8080/"
        },
        "id": "J1xs6MU4XbGD",
        "outputId": "1001eeb8-852d-41dd-9ab5-8b12ca1d2e97"
      },
      "outputs": [
        {
          "data": {
            "text/plain": [
              "Index(['Order_Id', 'Date', 'Status', 'Fulfilment', 'Sales_Channel',\n",
              "       'ShipServiceLevel', 'Style', 'Sku', 'Category', 'Size', 'Asin',\n",
              "       'Courier_Status', 'Qty', 'Currency', 'Amount', 'ShipCity', 'ShipState',\n",
              "       'ShipPostalCode', 'ShipCountry', 'PromotionIds', 'B2B', 'FulfilledBy',\n",
              "       'Unnamed:_22'],\n",
              "      dtype='object')"
            ]
          },
          "execution_count": 9,
          "metadata": {},
          "output_type": "execute_result"
        }
      ],
      "source": [
        "df.columns"
      ]
    },
    {
      "cell_type": "code",
      "execution_count": null,
      "id": "9IrHxIcnXnOi",
      "metadata": {
        "colab": {
          "base_uri": "https://localhost:8080/"
        },
        "id": "9IrHxIcnXnOi",
        "outputId": "ee8c2c81-888a-4602-9fb6-5e4a18f55dab"
      },
      "outputs": [
        {
          "data": {
            "text/plain": [
              "(128949, 23)"
            ]
          },
          "execution_count": 10,
          "metadata": {},
          "output_type": "execute_result"
        }
      ],
      "source": [
        "df.shape"
      ]
    },
    {
      "cell_type": "code",
      "execution_count": null,
      "id": "X0N5cvQfXsu0",
      "metadata": {
        "colab": {
          "base_uri": "https://localhost:8080/"
        },
        "id": "X0N5cvQfXsu0",
        "outputId": "f2491993-3b98-4efb-f938-1ed69bb017ef"
      },
      "outputs": [
        {
          "data": {
            "text/plain": [
              "120352"
            ]
          },
          "execution_count": 11,
          "metadata": {},
          "output_type": "execute_result"
        }
      ],
      "source": [
        "len(df[\"Order_Id\"].unique())"
      ]
    },
    {
      "cell_type": "markdown",
      "id": "TUgrWuiCXxAE",
      "metadata": {
        "id": "TUgrWuiCXxAE"
      },
      "source": [
        "#### 'Order_Id' Must contain unique values but it has some duplicate values"
      ]
    },
    {
      "cell_type": "code",
      "execution_count": null,
      "id": "c_dKkUPDXuZ7",
      "metadata": {
        "id": "c_dKkUPDXuZ7"
      },
      "outputs": [],
      "source": [
        "duplicate=df[df['Order_Id'].duplicated(keep='first')]\n",
        "df.drop(duplicate.index,axis=0,inplace=True)"
      ]
    },
    {
      "cell_type": "code",
      "execution_count": null,
      "id": "Iit16AJrX2za",
      "metadata": {
        "colab": {
          "base_uri": "https://localhost:8080/"
        },
        "id": "Iit16AJrX2za",
        "outputId": "6570e679-cffb-41e9-c5c1-bdf14a94dcb5"
      },
      "outputs": [
        {
          "data": {
            "text/plain": [
              "(120352, 23)"
            ]
          },
          "execution_count": 13,
          "metadata": {},
          "output_type": "execute_result"
        }
      ],
      "source": [
        "df.shape"
      ]
    },
    {
      "cell_type": "markdown",
      "id": "S8Uskk0VX577",
      "metadata": {
        "id": "S8Uskk0VX577"
      },
      "source": [
        "#### Converting object \"Date\" column to \"Datetime\" datatype column"
      ]
    },
    {
      "cell_type": "code",
      "execution_count": null,
      "id": "ms8LIsp7X4Ar",
      "metadata": {
        "id": "ms8LIsp7X4Ar"
      },
      "outputs": [],
      "source": [
        "df['Date']=pd.to_datetime(df['Date'])"
      ]
    },
    {
      "cell_type": "code",
      "execution_count": null,
      "id": "85XK0lAWX-Kj",
      "metadata": {
        "id": "85XK0lAWX-Kj"
      },
      "outputs": [],
      "source": [
        "df['Month']=[i.month for i in df['Date']]\n",
        "df['Day']=[i.day for i in df['Date']]\n",
        "df['Weekday']=[i.weekday() for i in df['Date']]"
      ]
    },
    {
      "cell_type": "markdown",
      "id": "2a5b13f6",
      "metadata": {
        "id": "2a5b13f6"
      },
      "source": [
        "#### we have multiple columns here which contain null values,\n",
        "#### first we will fill amount null values and Zero values with median of amount column"
      ]
    },
    {
      "cell_type": "code",
      "execution_count": null,
      "id": "e4a9fb54",
      "metadata": {
        "id": "e4a9fb54"
      },
      "outputs": [],
      "source": [
        "df['Amount'].fillna(df['Amount'].sort_values(ascending=False).median(),inplace=True)"
      ]
    },
    {
      "cell_type": "code",
      "execution_count": null,
      "id": "ZeJM3mu0dcOr",
      "metadata": {
        "id": "ZeJM3mu0dcOr"
      },
      "outputs": [],
      "source": [
        "df['Amount'].replace(0,df['Amount'].median(),inplace=True)"
      ]
    },
    {
      "cell_type": "code",
      "execution_count": null,
      "id": "3e85dd3c",
      "metadata": {
        "colab": {
          "base_uri": "https://localhost:8080/",
          "height": 899
        },
        "id": "3e85dd3c",
        "outputId": "c58c0248-9b7d-4ca1-e72b-5e8d59d3aeff"
      },
      "outputs": [
        {
          "data": {
            "text/plain": [
              "Order_Id                0\n",
              "Date                    0\n",
              "Status                  0\n",
              "Fulfilment              0\n",
              "Sales_Channel           0\n",
              "ShipServiceLevel        0\n",
              "Style                   0\n",
              "Sku                     0\n",
              "Category                0\n",
              "Size                    0\n",
              "Asin                    0\n",
              "Courier_Status       6386\n",
              "Qty                     0\n",
              "Currency             7400\n",
              "Amount                  0\n",
              "ShipCity               28\n",
              "ShipState              28\n",
              "ShipPostalCode         28\n",
              "ShipCountry            28\n",
              "PromotionIds        46916\n",
              "B2B                     0\n",
              "FulfilledBy         83983\n",
              "Unnamed:_22         45831\n",
              "Month                   0\n",
              "Day                     0\n",
              "Weekday                 0\n",
              "dtype: int64"
            ]
          },
          "execution_count": 18,
          "metadata": {},
          "output_type": "execute_result"
        }
      ],
      "source": [
        "df.isnull().sum()"
      ]
    },
    {
      "cell_type": "markdown",
      "id": "S9a644fM_574",
      "metadata": {
        "id": "S9a644fM_574"
      },
      "source": [
        "#### Dropping some unncessary columns"
      ]
    },
    {
      "cell_type": "code",
      "execution_count": null,
      "id": "vwihIVLE_fV2",
      "metadata": {
        "id": "vwihIVLE_fV2"
      },
      "outputs": [],
      "source": [
        "df.drop(['Unnamed:_22','FulfilledBy','PromotionIds'],axis=1,inplace=True)"
      ]
    },
    {
      "cell_type": "code",
      "execution_count": null,
      "id": "7d7f33cc",
      "metadata": {
        "colab": {
          "base_uri": "https://localhost:8080/"
        },
        "id": "7d7f33cc",
        "outputId": "0b27c4bb-0aa1-4ec4-eb11-8283eb9f9f8d"
      },
      "outputs": [
        {
          "name": "stdout",
          "output_type": "stream",
          "text": [
            "<class 'pandas.core.frame.DataFrame'>\n",
            "Int64Index: 120352 entries, 0 to 128948\n",
            "Data columns (total 23 columns):\n",
            " #   Column            Non-Null Count   Dtype         \n",
            "---  ------            --------------   -----         \n",
            " 0   Order_Id          120352 non-null  object        \n",
            " 1   Date              120352 non-null  datetime64[ns]\n",
            " 2   Status            120352 non-null  object        \n",
            " 3   Fulfilment        120352 non-null  object        \n",
            " 4   Sales_Channel     120352 non-null  object        \n",
            " 5   ShipServiceLevel  120352 non-null  object        \n",
            " 6   Style             120352 non-null  object        \n",
            " 7   Sku               120352 non-null  object        \n",
            " 8   Category          120352 non-null  object        \n",
            " 9   Size              120352 non-null  object        \n",
            " 10  Asin              120352 non-null  object        \n",
            " 11  Courier_Status    113966 non-null  object        \n",
            " 12  Qty               120352 non-null  int64         \n",
            " 13  Currency          112952 non-null  object        \n",
            " 14  Amount            120352 non-null  float64       \n",
            " 15  ShipCity          120324 non-null  object        \n",
            " 16  ShipState         120324 non-null  object        \n",
            " 17  ShipPostalCode    120324 non-null  float64       \n",
            " 18  ShipCountry       120324 non-null  object        \n",
            " 19  B2B               120352 non-null  bool          \n",
            " 20  Month             120352 non-null  int64         \n",
            " 21  Day               120352 non-null  int64         \n",
            " 22  Weekday           120352 non-null  int64         \n",
            "dtypes: bool(1), datetime64[ns](1), float64(2), int64(4), object(15)\n",
            "memory usage: 21.2+ MB\n"
          ]
        }
      ],
      "source": [
        "df.info()"
      ]
    },
    {
      "cell_type": "markdown",
      "id": "HbSOR8lJYWG8",
      "metadata": {
        "id": "HbSOR8lJYWG8"
      },
      "source": [
        "#### Now lets drop the remaining null values with axis=0"
      ]
    },
    {
      "cell_type": "code",
      "execution_count": null,
      "id": "ybaxfbAyAVj6",
      "metadata": {
        "id": "ybaxfbAyAVj6"
      },
      "outputs": [],
      "source": [
        "df.dropna(axis=0,inplace=True)"
      ]
    },
    {
      "cell_type": "code",
      "execution_count": null,
      "id": "zsr5pJvkfnWM",
      "metadata": {
        "id": "zsr5pJvkfnWM",
        "outputId": "534dcd80-45b3-495c-fadd-0807384e1dcd"
      },
      "outputs": [
        {
          "data": {
            "text/plain": [
              "(108195, 23)"
            ]
          },
          "execution_count": 22,
          "metadata": {},
          "output_type": "execute_result"
        }
      ],
      "source": [
        "df.shape"
      ]
    },
    {
      "cell_type": "code",
      "execution_count": null,
      "id": "V1mqyisnXmS1",
      "metadata": {
        "colab": {
          "base_uri": "https://localhost:8080/",
          "height": 805
        },
        "id": "V1mqyisnXmS1",
        "outputId": "4fc423b0-f65a-46c7-e314-c6640bba6181"
      },
      "outputs": [
        {
          "data": {
            "text/plain": [
              "Order_Id            0\n",
              "Date                0\n",
              "Status              0\n",
              "Fulfilment          0\n",
              "Sales_Channel       0\n",
              "ShipServiceLevel    0\n",
              "Style               0\n",
              "Sku                 0\n",
              "Category            0\n",
              "Size                0\n",
              "Asin                0\n",
              "Courier_Status      0\n",
              "Qty                 0\n",
              "Currency            0\n",
              "Amount              0\n",
              "ShipCity            0\n",
              "ShipState           0\n",
              "ShipPostalCode      0\n",
              "ShipCountry         0\n",
              "B2B                 0\n",
              "Month               0\n",
              "Day                 0\n",
              "Weekday             0\n",
              "dtype: int64"
            ]
          },
          "execution_count": 23,
          "metadata": {},
          "output_type": "execute_result"
        }
      ],
      "source": [
        "df.isnull().sum()"
      ]
    },
    {
      "cell_type": "markdown",
      "id": "Egag-rssYW36",
      "metadata": {
        "id": "Egag-rssYW36"
      },
      "source": [
        "### **Problem Statement 1**\n",
        "\n",
        "####  Financial Performance: Enhance financial performance by analyzing total revenue, identifying top-selling products, calculating average order value, and identifying peak sales periods."
      ]
    },
    {
      "cell_type": "markdown",
      "id": "aS3EExSaYmbM",
      "metadata": {
        "id": "aS3EExSaYmbM"
      },
      "source": [
        "#### **Revenuve Generated -**"
      ]
    },
    {
      "cell_type": "code",
      "execution_count": null,
      "id": "FTqobDHAYhxo",
      "metadata": {
        "colab": {
          "base_uri": "https://localhost:8080/"
        },
        "id": "FTqobDHAYhxo",
        "outputId": "7a1d29f4-bdc3-45d3-c68e-721f66f226b4"
      },
      "outputs": [
        {
          "name": "stdout",
          "output_type": "stream",
          "text": [
            "total_revenue_generated ->  71857436.0\n"
          ]
        }
      ],
      "source": [
        "print('total_revenue_generated -> ',df['Amount'].sum())"
      ]
    },
    {
      "cell_type": "markdown",
      "id": "KSTuu_EeY60i",
      "metadata": {
        "id": "KSTuu_EeY60i"
      },
      "source": [
        "#### **Top Selling Product -**"
      ]
    },
    {
      "cell_type": "code",
      "execution_count": null,
      "id": "gZx58FoTZLaS",
      "metadata": {
        "colab": {
          "base_uri": "https://localhost:8080/",
          "height": 147
        },
        "id": "gZx58FoTZLaS",
        "outputId": "d2e87319-0a40-48d4-abd4-cb5e5a840bdc"
      },
      "outputs": [
        {
          "data": {
            "text/plain": [
              "Set    42298\n",
              "Name: Category, dtype: int64"
            ]
          },
          "execution_count": 25,
          "metadata": {},
          "output_type": "execute_result"
        }
      ],
      "source": [
        "df['Category'].value_counts().head(1)"
      ]
    },
    {
      "cell_type": "code",
      "execution_count": null,
      "id": "ruo81wPlZrw_",
      "metadata": {
        "colab": {
          "base_uri": "https://localhost:8080/",
          "height": 147
        },
        "id": "ruo81wPlZrw_",
        "outputId": "e9e7edc4-4315-4da1-bf36-3ff453cb08f5"
      },
      "outputs": [
        {
          "data": {
            "text/plain": [
              "JNE3797    3531\n",
              "Name: Style, dtype: int64"
            ]
          },
          "execution_count": 26,
          "metadata": {},
          "output_type": "execute_result"
        }
      ],
      "source": [
        "df['Style'].value_counts().head(1)"
      ]
    },
    {
      "cell_type": "markdown",
      "id": "EhPcCs2bZ6C7",
      "metadata": {
        "id": "EhPcCs2bZ6C7"
      },
      "source": [
        "#### **Average Order Value -**"
      ]
    },
    {
      "cell_type": "code",
      "execution_count": null,
      "id": "KuaV5QR4aDws",
      "metadata": {
        "colab": {
          "base_uri": "https://localhost:8080/"
        },
        "id": "KuaV5QR4aDws",
        "outputId": "961bce1e-0940-4ac8-c3b7-a610adcb1067"
      },
      "outputs": [
        {
          "data": {
            "text/plain": [
              "664.1474744673968"
            ]
          },
          "execution_count": 28,
          "metadata": {},
          "output_type": "execute_result"
        }
      ],
      "source": [
        "sum(df['Amount'])/len(df['Order_Id'])"
      ]
    },
    {
      "cell_type": "markdown",
      "id": "rXt4k1ZVaK8a",
      "metadata": {
        "id": "rXt4k1ZVaK8a"
      },
      "source": [
        "#### **Peak Sales Periods -**"
      ]
    },
    {
      "cell_type": "code",
      "execution_count": null,
      "id": "Qr-WHL9UaQ_X",
      "metadata": {
        "id": "Qr-WHL9UaQ_X"
      },
      "outputs": [],
      "source": [
        "from datetime import datetime"
      ]
    },
    {
      "cell_type": "markdown",
      "id": "8538ed46",
      "metadata": {
        "id": "8538ed46"
      },
      "source": [
        "###### Converting Object data type of Date column to Datetime"
      ]
    },
    {
      "cell_type": "code",
      "execution_count": null,
      "id": "32233099",
      "metadata": {
        "id": "32233099"
      },
      "outputs": [],
      "source": [
        "df['Date']=pd.to_datetime(df['Date'])"
      ]
    },
    {
      "cell_type": "code",
      "execution_count": null,
      "id": "5c52bb69",
      "metadata": {
        "colab": {
          "base_uri": "https://localhost:8080/"
        },
        "id": "5c52bb69",
        "outputId": "7ac54247-8e03-49aa-8e1b-390091223765"
      },
      "outputs": [
        {
          "name": "stdout",
          "output_type": "stream",
          "text": [
            "<class 'pandas.core.frame.DataFrame'>\n",
            "Int64Index: 108195 entries, 1 to 128948\n",
            "Data columns (total 23 columns):\n",
            " #   Column            Non-Null Count   Dtype         \n",
            "---  ------            --------------   -----         \n",
            " 0   Order_Id          108195 non-null  object        \n",
            " 1   Date              108195 non-null  datetime64[ns]\n",
            " 2   Status            108195 non-null  object        \n",
            " 3   Fulfilment        108195 non-null  object        \n",
            " 4   Sales_Channel     108195 non-null  object        \n",
            " 5   ShipServiceLevel  108195 non-null  object        \n",
            " 6   Style             108195 non-null  object        \n",
            " 7   Sku               108195 non-null  object        \n",
            " 8   Category          108195 non-null  object        \n",
            " 9   Size              108195 non-null  object        \n",
            " 10  Asin              108195 non-null  object        \n",
            " 11  Courier_Status    108195 non-null  object        \n",
            " 12  Qty               108195 non-null  int64         \n",
            " 13  Currency          108195 non-null  object        \n",
            " 14  Amount            108195 non-null  float64       \n",
            " 15  ShipCity          108195 non-null  object        \n",
            " 16  ShipState         108195 non-null  object        \n",
            " 17  ShipPostalCode    108195 non-null  float64       \n",
            " 18  ShipCountry       108195 non-null  object        \n",
            " 19  B2B               108195 non-null  bool          \n",
            " 20  Month             108195 non-null  int64         \n",
            " 21  Day               108195 non-null  int64         \n",
            " 22  Weekday           108195 non-null  int64         \n",
            "dtypes: bool(1), datetime64[ns](1), float64(2), int64(4), object(15)\n",
            "memory usage: 19.1+ MB\n"
          ]
        }
      ],
      "source": [
        "df.info()"
      ]
    },
    {
      "cell_type": "code",
      "execution_count": null,
      "id": "c3775db1",
      "metadata": {
        "id": "c3775db1"
      },
      "outputs": [],
      "source": [
        "df['month']=[i.month for i in df['Date']]"
      ]
    },
    {
      "cell_type": "code",
      "execution_count": null,
      "id": "968ba092",
      "metadata": {
        "id": "968ba092"
      },
      "outputs": [],
      "source": [
        "\n",
        "df['weekday']=[i.weekday() for i in df['Date']]"
      ]
    },
    {
      "cell_type": "code",
      "execution_count": null,
      "id": "b11c8ca0",
      "metadata": {
        "colab": {
          "base_uri": "https://localhost:8080/",
          "height": 335
        },
        "id": "b11c8ca0",
        "outputId": "50a1c0b0-0f2f-405b-965e-d74afb07095a"
      },
      "outputs": [
        {
          "data": {
            "text/plain": [
              "6    16449\n",
              "1    15786\n",
              "2    15588\n",
              "0    15577\n",
              "5    15558\n",
              "4    14867\n",
              "3    14370\n",
              "Name: weekday, dtype: int64"
            ]
          },
          "execution_count": 34,
          "metadata": {},
          "output_type": "execute_result"
        }
      ],
      "source": [
        "df['weekday'].value_counts()"
      ]
    },
    {
      "cell_type": "markdown",
      "id": "8cfbf2e2",
      "metadata": {
        "id": "8cfbf2e2"
      },
      "source": [
        "###### 0-Mon 1-Tue 2-Wed 3-Thurs 4-Fri 5-Sat 6-Sun"
      ]
    },
    {
      "cell_type": "markdown",
      "id": "6dd2a80b",
      "metadata": {
        "id": "6dd2a80b"
      },
      "source": [
        "#### **6 it is, It means the sales is peak on 6th weekday i.e. sunday**"
      ]
    },
    {
      "cell_type": "markdown",
      "id": "de9b5776",
      "metadata": {
        "id": "de9b5776"
      },
      "source": [
        "### **Problem Statement 2**\n",
        "\n",
        "#### Understand customer behavior by identifying top-performing locations, analyzing order cancellations, and differentiating between B2B and B2C customers.\n"
      ]
    },
    {
      "cell_type": "markdown",
      "id": "h0SiP5UgbhdY",
      "metadata": {
        "id": "h0SiP5UgbhdY"
      },
      "source": [
        "##### **TOP PERFORMING CITY**"
      ]
    },
    {
      "cell_type": "code",
      "execution_count": null,
      "id": "5d67e9ef",
      "metadata": {
        "colab": {
          "base_uri": "https://localhost:8080/",
          "height": 147
        },
        "id": "5d67e9ef",
        "outputId": "7478539e-e62d-41c9-876c-8ced2e11c25b"
      },
      "outputs": [
        {
          "data": {
            "text/plain": [
              "BENGALURU    9672\n",
              "Name: ShipCity, dtype: int64"
            ]
          },
          "execution_count": 35,
          "metadata": {},
          "output_type": "execute_result"
        }
      ],
      "source": [
        "df['ShipCity'].value_counts().sort_values(ascending=False).head(1)"
      ]
    },
    {
      "cell_type": "markdown",
      "id": "Voq7DRxLbsA6",
      "metadata": {
        "id": "Voq7DRxLbsA6"
      },
      "source": [
        "##### **TOP PERFORMING STATE**"
      ]
    },
    {
      "cell_type": "code",
      "execution_count": null,
      "id": "4a147bdb",
      "metadata": {
        "colab": {
          "base_uri": "https://localhost:8080/",
          "height": 147
        },
        "id": "4a147bdb",
        "outputId": "26729f32-48f4-4741-e7c0-b95e329d9f8d"
      },
      "outputs": [
        {
          "data": {
            "text/plain": [
              "MAHARASHTRA    18915\n",
              "Name: ShipState, dtype: int64"
            ]
          },
          "execution_count": 36,
          "metadata": {},
          "output_type": "execute_result"
        }
      ],
      "source": [
        "df['ShipState'].value_counts().sort_values(ascending=False).head(1)"
      ]
    },
    {
      "cell_type": "markdown",
      "id": "MHSCfx-8bxWy",
      "metadata": {
        "id": "MHSCfx-8bxWy"
      },
      "source": [
        "##### **TOP PERFORMING COUNTRY**"
      ]
    },
    {
      "cell_type": "code",
      "execution_count": null,
      "id": "b4792ac1",
      "metadata": {
        "colab": {
          "base_uri": "https://localhost:8080/",
          "height": 147
        },
        "id": "b4792ac1",
        "outputId": "4d5779fd-0784-4b1d-f909-c968c33612c8"
      },
      "outputs": [
        {
          "data": {
            "text/plain": [
              "IN    108195\n",
              "Name: ShipCountry, dtype: int64"
            ]
          },
          "execution_count": 37,
          "metadata": {},
          "output_type": "execute_result"
        }
      ],
      "source": [
        "df['ShipCountry'].value_counts().sort_values(ascending=False).head(1)"
      ]
    },
    {
      "cell_type": "markdown",
      "id": "qG5Bt2lpcFfi",
      "metadata": {
        "id": "qG5Bt2lpcFfi"
      },
      "source": [
        "#### **Analyzing Order Cancellations**"
      ]
    },
    {
      "cell_type": "code",
      "execution_count": null,
      "id": "4c782485",
      "metadata": {
        "colab": {
          "base_uri": "https://localhost:8080/",
          "height": 790
        },
        "id": "4c782485",
        "outputId": "d214d2e9-e809-4494-c1a2-226613dd669a"
      },
      "outputs": [
        {
          "data": {
            "text/html": [
              "<div>\n",
              "<style scoped>\n",
              "    .dataframe tbody tr th:only-of-type {\n",
              "        vertical-align: middle;\n",
              "    }\n",
              "\n",
              "    .dataframe tbody tr th {\n",
              "        vertical-align: top;\n",
              "    }\n",
              "\n",
              "    .dataframe thead th {\n",
              "        text-align: right;\n",
              "    }\n",
              "</style>\n",
              "<table border=\"1\" class=\"dataframe\">\n",
              "  <thead>\n",
              "    <tr style=\"text-align: right;\">\n",
              "      <th></th>\n",
              "      <th>Order_Id</th>\n",
              "      <th>Date</th>\n",
              "      <th>Status</th>\n",
              "      <th>Fulfilment</th>\n",
              "      <th>Sales_Channel</th>\n",
              "      <th>ShipServiceLevel</th>\n",
              "      <th>Style</th>\n",
              "      <th>Sku</th>\n",
              "      <th>Category</th>\n",
              "      <th>Size</th>\n",
              "      <th>...</th>\n",
              "      <th>ShipCity</th>\n",
              "      <th>ShipState</th>\n",
              "      <th>ShipPostalCode</th>\n",
              "      <th>ShipCountry</th>\n",
              "      <th>B2B</th>\n",
              "      <th>Month</th>\n",
              "      <th>Day</th>\n",
              "      <th>Weekday</th>\n",
              "      <th>month</th>\n",
              "      <th>weekday</th>\n",
              "    </tr>\n",
              "  </thead>\n",
              "  <tbody>\n",
              "    <tr>\n",
              "      <th>11</th>\n",
              "      <td>171-4638481-6326716</td>\n",
              "      <td>2022-04-30</td>\n",
              "      <td>Cancelled</td>\n",
              "      <td>Amazon</td>\n",
              "      <td>Amazon.in</td>\n",
              "      <td>Expedited</td>\n",
              "      <td>JNE3500</td>\n",
              "      <td>JNE3500-KR-XS</td>\n",
              "      <td>kurta</td>\n",
              "      <td>XS</td>\n",
              "      <td>...</td>\n",
              "      <td>NOIDA</td>\n",
              "      <td>UTTAR PRADESH</td>\n",
              "      <td>201303.0</td>\n",
              "      <td>IN</td>\n",
              "      <td>False</td>\n",
              "      <td>4</td>\n",
              "      <td>30</td>\n",
              "      <td>5</td>\n",
              "      <td>4</td>\n",
              "      <td>5</td>\n",
              "    </tr>\n",
              "    <tr>\n",
              "      <th>54</th>\n",
              "      <td>171-2592464-6846743</td>\n",
              "      <td>2022-04-30</td>\n",
              "      <td>Cancelled</td>\n",
              "      <td>Merchant</td>\n",
              "      <td>Amazon.in</td>\n",
              "      <td>Standard</td>\n",
              "      <td>NW005</td>\n",
              "      <td>NW005-ST-PJ-XL</td>\n",
              "      <td>Set</td>\n",
              "      <td>XL</td>\n",
              "      <td>...</td>\n",
              "      <td>BENGALURU</td>\n",
              "      <td>KARNATAKA</td>\n",
              "      <td>560023.0</td>\n",
              "      <td>IN</td>\n",
              "      <td>False</td>\n",
              "      <td>4</td>\n",
              "      <td>30</td>\n",
              "      <td>5</td>\n",
              "      <td>4</td>\n",
              "      <td>5</td>\n",
              "    </tr>\n",
              "    <tr>\n",
              "      <th>107</th>\n",
              "      <td>403-0104882-7373900</td>\n",
              "      <td>2022-04-30</td>\n",
              "      <td>Cancelled</td>\n",
              "      <td>Amazon</td>\n",
              "      <td>Amazon.in</td>\n",
              "      <td>Expedited</td>\n",
              "      <td>JNE3861</td>\n",
              "      <td>JNE3861-DR-XXL</td>\n",
              "      <td>Western Dress</td>\n",
              "      <td>XXL</td>\n",
              "      <td>...</td>\n",
              "      <td>HIMMATNAGAR</td>\n",
              "      <td>Gujarat</td>\n",
              "      <td>383001.0</td>\n",
              "      <td>IN</td>\n",
              "      <td>False</td>\n",
              "      <td>4</td>\n",
              "      <td>30</td>\n",
              "      <td>5</td>\n",
              "      <td>4</td>\n",
              "      <td>5</td>\n",
              "    </tr>\n",
              "    <tr>\n",
              "      <th>128</th>\n",
              "      <td>403-5222550-4437140</td>\n",
              "      <td>2022-04-30</td>\n",
              "      <td>Cancelled</td>\n",
              "      <td>Amazon</td>\n",
              "      <td>Amazon.in</td>\n",
              "      <td>Expedited</td>\n",
              "      <td>JNE3261</td>\n",
              "      <td>JNE3261-KR-M</td>\n",
              "      <td>kurta</td>\n",
              "      <td>M</td>\n",
              "      <td>...</td>\n",
              "      <td>COIMBATORE</td>\n",
              "      <td>TAMIL NADU</td>\n",
              "      <td>641035.0</td>\n",
              "      <td>IN</td>\n",
              "      <td>False</td>\n",
              "      <td>4</td>\n",
              "      <td>30</td>\n",
              "      <td>5</td>\n",
              "      <td>4</td>\n",
              "      <td>5</td>\n",
              "    </tr>\n",
              "    <tr>\n",
              "      <th>142</th>\n",
              "      <td>406-7779874-9136347</td>\n",
              "      <td>2022-04-30</td>\n",
              "      <td>Cancelled</td>\n",
              "      <td>Amazon</td>\n",
              "      <td>Amazon.in</td>\n",
              "      <td>Expedited</td>\n",
              "      <td>SET398</td>\n",
              "      <td>SET398-KR-PP-L</td>\n",
              "      <td>Set</td>\n",
              "      <td>L</td>\n",
              "      <td>...</td>\n",
              "      <td>HERBERTPUR</td>\n",
              "      <td>UTTARAKHAND</td>\n",
              "      <td>248142.0</td>\n",
              "      <td>IN</td>\n",
              "      <td>False</td>\n",
              "      <td>4</td>\n",
              "      <td>30</td>\n",
              "      <td>5</td>\n",
              "      <td>4</td>\n",
              "      <td>5</td>\n",
              "    </tr>\n",
              "    <tr>\n",
              "      <th>...</th>\n",
              "      <td>...</td>\n",
              "      <td>...</td>\n",
              "      <td>...</td>\n",
              "      <td>...</td>\n",
              "      <td>...</td>\n",
              "      <td>...</td>\n",
              "      <td>...</td>\n",
              "      <td>...</td>\n",
              "      <td>...</td>\n",
              "      <td>...</td>\n",
              "      <td>...</td>\n",
              "      <td>...</td>\n",
              "      <td>...</td>\n",
              "      <td>...</td>\n",
              "      <td>...</td>\n",
              "      <td>...</td>\n",
              "      <td>...</td>\n",
              "      <td>...</td>\n",
              "      <td>...</td>\n",
              "      <td>...</td>\n",
              "      <td>...</td>\n",
              "    </tr>\n",
              "    <tr>\n",
              "      <th>128936</th>\n",
              "      <td>408-9803724-6565965</td>\n",
              "      <td>2022-05-31</td>\n",
              "      <td>Cancelled</td>\n",
              "      <td>Amazon</td>\n",
              "      <td>Amazon.in</td>\n",
              "      <td>Expedited</td>\n",
              "      <td>MEN5024</td>\n",
              "      <td>MEN5024-KR-L</td>\n",
              "      <td>kurta</td>\n",
              "      <td>L</td>\n",
              "      <td>...</td>\n",
              "      <td>MUMBAI</td>\n",
              "      <td>MAHARASHTRA</td>\n",
              "      <td>400056.0</td>\n",
              "      <td>IN</td>\n",
              "      <td>False</td>\n",
              "      <td>5</td>\n",
              "      <td>31</td>\n",
              "      <td>1</td>\n",
              "      <td>5</td>\n",
              "      <td>1</td>\n",
              "    </tr>\n",
              "    <tr>\n",
              "      <th>128938</th>\n",
              "      <td>404-2225394-8024308</td>\n",
              "      <td>2022-05-31</td>\n",
              "      <td>Cancelled</td>\n",
              "      <td>Amazon</td>\n",
              "      <td>Amazon.in</td>\n",
              "      <td>Expedited</td>\n",
              "      <td>J0152</td>\n",
              "      <td>J0152-DR-S</td>\n",
              "      <td>Western Dress</td>\n",
              "      <td>S</td>\n",
              "      <td>...</td>\n",
              "      <td>KALAMASSERY</td>\n",
              "      <td>KERALA</td>\n",
              "      <td>682021.0</td>\n",
              "      <td>IN</td>\n",
              "      <td>False</td>\n",
              "      <td>5</td>\n",
              "      <td>31</td>\n",
              "      <td>1</td>\n",
              "      <td>5</td>\n",
              "      <td>1</td>\n",
              "    </tr>\n",
              "    <tr>\n",
              "      <th>128939</th>\n",
              "      <td>408-5154281-4593912</td>\n",
              "      <td>2022-05-31</td>\n",
              "      <td>Cancelled</td>\n",
              "      <td>Amazon</td>\n",
              "      <td>Amazon.in</td>\n",
              "      <td>Expedited</td>\n",
              "      <td>J0119</td>\n",
              "      <td>J0119-TP-XXXL</td>\n",
              "      <td>Top</td>\n",
              "      <td>3XL</td>\n",
              "      <td>...</td>\n",
              "      <td>Prayagraj (ALLAHABAD)</td>\n",
              "      <td>UTTAR PRADESH</td>\n",
              "      <td>211007.0</td>\n",
              "      <td>IN</td>\n",
              "      <td>False</td>\n",
              "      <td>5</td>\n",
              "      <td>31</td>\n",
              "      <td>1</td>\n",
              "      <td>5</td>\n",
              "      <td>1</td>\n",
              "    </tr>\n",
              "    <tr>\n",
              "      <th>128943</th>\n",
              "      <td>404-3802633-7250760</td>\n",
              "      <td>2022-05-31</td>\n",
              "      <td>Cancelled</td>\n",
              "      <td>Amazon</td>\n",
              "      <td>Amazon.in</td>\n",
              "      <td>Expedited</td>\n",
              "      <td>SET044</td>\n",
              "      <td>SET044-KR-NP-M</td>\n",
              "      <td>Set</td>\n",
              "      <td>M</td>\n",
              "      <td>...</td>\n",
              "      <td>MUMBAI</td>\n",
              "      <td>MAHARASHTRA</td>\n",
              "      <td>400017.0</td>\n",
              "      <td>IN</td>\n",
              "      <td>False</td>\n",
              "      <td>5</td>\n",
              "      <td>31</td>\n",
              "      <td>1</td>\n",
              "      <td>5</td>\n",
              "      <td>1</td>\n",
              "    </tr>\n",
              "    <tr>\n",
              "      <th>128945</th>\n",
              "      <td>402-9551604-7544318</td>\n",
              "      <td>2022-05-31</td>\n",
              "      <td>Cancelled</td>\n",
              "      <td>Amazon</td>\n",
              "      <td>Amazon.in</td>\n",
              "      <td>Expedited</td>\n",
              "      <td>SET401</td>\n",
              "      <td>SET401-KR-NP-M</td>\n",
              "      <td>Set</td>\n",
              "      <td>M</td>\n",
              "      <td>...</td>\n",
              "      <td>GURUGRAM</td>\n",
              "      <td>HARYANA</td>\n",
              "      <td>122004.0</td>\n",
              "      <td>IN</td>\n",
              "      <td>False</td>\n",
              "      <td>5</td>\n",
              "      <td>31</td>\n",
              "      <td>1</td>\n",
              "      <td>5</td>\n",
              "      <td>1</td>\n",
              "    </tr>\n",
              "  </tbody>\n",
              "</table>\n",
              "<p>5239 rows × 25 columns</p>\n",
              "</div>"
            ],
            "text/plain": [
              "                   Order_Id       Date     Status Fulfilment Sales_Channel  \\\n",
              "11      171-4638481-6326716 2022-04-30  Cancelled     Amazon     Amazon.in   \n",
              "54      171-2592464-6846743 2022-04-30  Cancelled   Merchant     Amazon.in   \n",
              "107     403-0104882-7373900 2022-04-30  Cancelled     Amazon     Amazon.in   \n",
              "128     403-5222550-4437140 2022-04-30  Cancelled     Amazon     Amazon.in   \n",
              "142     406-7779874-9136347 2022-04-30  Cancelled     Amazon     Amazon.in   \n",
              "...                     ...        ...        ...        ...           ...   \n",
              "128936  408-9803724-6565965 2022-05-31  Cancelled     Amazon     Amazon.in   \n",
              "128938  404-2225394-8024308 2022-05-31  Cancelled     Amazon     Amazon.in   \n",
              "128939  408-5154281-4593912 2022-05-31  Cancelled     Amazon     Amazon.in   \n",
              "128943  404-3802633-7250760 2022-05-31  Cancelled     Amazon     Amazon.in   \n",
              "128945  402-9551604-7544318 2022-05-31  Cancelled     Amazon     Amazon.in   \n",
              "\n",
              "       ShipServiceLevel    Style             Sku       Category Size  ...  \\\n",
              "11            Expedited  JNE3500   JNE3500-KR-XS          kurta   XS  ...   \n",
              "54             Standard    NW005  NW005-ST-PJ-XL            Set   XL  ...   \n",
              "107           Expedited  JNE3861  JNE3861-DR-XXL  Western Dress  XXL  ...   \n",
              "128           Expedited  JNE3261    JNE3261-KR-M          kurta    M  ...   \n",
              "142           Expedited   SET398  SET398-KR-PP-L            Set    L  ...   \n",
              "...                 ...      ...             ...            ...  ...  ...   \n",
              "128936        Expedited  MEN5024    MEN5024-KR-L          kurta    L  ...   \n",
              "128938        Expedited    J0152      J0152-DR-S  Western Dress    S  ...   \n",
              "128939        Expedited    J0119   J0119-TP-XXXL            Top  3XL  ...   \n",
              "128943        Expedited   SET044  SET044-KR-NP-M            Set    M  ...   \n",
              "128945        Expedited   SET401  SET401-KR-NP-M            Set    M  ...   \n",
              "\n",
              "                     ShipCity      ShipState  ShipPostalCode ShipCountry  \\\n",
              "11                      NOIDA  UTTAR PRADESH        201303.0          IN   \n",
              "54                  BENGALURU      KARNATAKA        560023.0          IN   \n",
              "107               HIMMATNAGAR        Gujarat        383001.0          IN   \n",
              "128                COIMBATORE     TAMIL NADU        641035.0          IN   \n",
              "142                HERBERTPUR    UTTARAKHAND        248142.0          IN   \n",
              "...                       ...            ...             ...         ...   \n",
              "128936                 MUMBAI    MAHARASHTRA        400056.0          IN   \n",
              "128938            KALAMASSERY         KERALA        682021.0          IN   \n",
              "128939  Prayagraj (ALLAHABAD)  UTTAR PRADESH        211007.0          IN   \n",
              "128943                 MUMBAI    MAHARASHTRA        400017.0          IN   \n",
              "128945               GURUGRAM        HARYANA        122004.0          IN   \n",
              "\n",
              "          B2B Month Day  Weekday month  weekday  \n",
              "11      False     4  30        5     4        5  \n",
              "54      False     4  30        5     4        5  \n",
              "107     False     4  30        5     4        5  \n",
              "128     False     4  30        5     4        5  \n",
              "142     False     4  30        5     4        5  \n",
              "...       ...   ...  ..      ...   ...      ...  \n",
              "128936  False     5  31        1     5        1  \n",
              "128938  False     5  31        1     5        1  \n",
              "128939  False     5  31        1     5        1  \n",
              "128943  False     5  31        1     5        1  \n",
              "128945  False     5  31        1     5        1  \n",
              "\n",
              "[5239 rows x 25 columns]"
            ]
          },
          "execution_count": 38,
          "metadata": {},
          "output_type": "execute_result"
        }
      ],
      "source": [
        "df[df['Status']=='Cancelled']"
      ]
    },
    {
      "cell_type": "markdown",
      "id": "5aa31044",
      "metadata": {
        "id": "5aa31044"
      },
      "source": [
        "##### AS PER OBSERVATIONS, 5239 ORDERS WERE CANCELLED"
      ]
    },
    {
      "cell_type": "markdown",
      "id": "hGZuaUNxcmGy",
      "metadata": {
        "id": "hGZuaUNxcmGy"
      },
      "source": [
        "#### **Differentiating Between B2B and B2C Customers**"
      ]
    },
    {
      "cell_type": "code",
      "execution_count": null,
      "id": "fd6b83c0",
      "metadata": {
        "colab": {
          "base_uri": "https://localhost:8080/"
        },
        "id": "fd6b83c0",
        "outputId": "95a835fe-2bd5-45de-bde2-f8b5667db227"
      },
      "outputs": [
        {
          "data": {
            "text/plain": [
              "array([False,  True])"
            ]
          },
          "execution_count": 39,
          "metadata": {},
          "output_type": "execute_result"
        }
      ],
      "source": [
        "df['B2B'].unique()"
      ]
    },
    {
      "cell_type": "code",
      "execution_count": null,
      "id": "1c688181",
      "metadata": {
        "colab": {
          "base_uri": "https://localhost:8080/",
          "height": 178
        },
        "id": "1c688181",
        "outputId": "929b86d8-8b6b-461f-95cf-2fc8843e90e5"
      },
      "outputs": [
        {
          "data": {
            "text/plain": [
              "False    107442\n",
              "True        753\n",
              "Name: B2B, dtype: int64"
            ]
          },
          "execution_count": 40,
          "metadata": {},
          "output_type": "execute_result"
        }
      ],
      "source": [
        "df['B2B'].value_counts()"
      ]
    },
    {
      "cell_type": "code",
      "execution_count": null,
      "id": "eb6eaf25",
      "metadata": {
        "colab": {
          "base_uri": "https://localhost:8080/",
          "height": 406
        },
        "id": "eb6eaf25",
        "outputId": "a936412e-0290-4211-91a0-7deca370d5c7"
      },
      "outputs": [
        {
          "data": {
            "image/png": "[encoded data removed]",
            "text/plain": [
              "<Figure size 432x288 with 1 Axes>"
            ]
          },
          "metadata": {
            "needs_background": "light"
          },
          "output_type": "display_data"
        }
      ],
      "source": [
        "plt.bar(['B2C','B2B'],df['B2B'].value_counts())\n",
        "plt.show()"
      ]
    },
    {
      "cell_type": "markdown",
      "id": "f83f18cd",
      "metadata": {
        "id": "f83f18cd"
      },
      "source": [
        "####  753 ORDERS WERE OF B2B i.e BUSINESS TO BUSINESS AND 107442 ORDERS WERE OF B2C i.e BUSINESS TO CONSUMERS"
      ]
    },
    {
      "cell_type": "markdown",
      "id": "aNHYfDAleCBD",
      "metadata": {
        "id": "aNHYfDAleCBD"
      },
      "source": [
        "### **Problem Statement 3**\n",
        "\n",
        "#### Streamline logistics and fulfillment processes by calculating average shipping time, and evaluating the percentage of orders fulfilled by Amazon vs Merchant.\n"
      ]
    },
    {
      "cell_type": "markdown",
      "id": "Mh4UxCDHemjK",
      "metadata": {
        "id": "Mh4UxCDHemjK"
      },
      "source": [
        "#### **Average Shipping Time -**"
      ]
    },
    {
      "cell_type": "markdown",
      "id": "8f86ff6d",
      "metadata": {
        "id": "8f86ff6d"
      },
      "source": [
        "##### AS WE KNOW, STANDARD  SHIPPING DAYS REQUIRES 2-7 BUSINESS DAYS, WHERE AS EXPEDITED SHIPPING DAYS REQIRES 2-3 BUSINESS DAYS"
      ]
    },
    {
      "cell_type": "code",
      "execution_count": null,
      "id": "2f1c1a9c",
      "metadata": {
        "colab": {
          "base_uri": "https://localhost:8080/",
          "height": 178
        },
        "id": "2f1c1a9c",
        "outputId": "2701de1a-9465-4c96-a750-d1c165199775"
      },
      "outputs": [
        {
          "data": {
            "text/plain": [
              "Expedited    77308\n",
              "Standard     30887\n",
              "Name: ShipServiceLevel, dtype: int64"
            ]
          },
          "execution_count": 45,
          "metadata": {},
          "output_type": "execute_result"
        }
      ],
      "source": [
        "df['ShipServiceLevel'].value_counts()"
      ]
    },
    {
      "cell_type": "markdown",
      "id": "0990ecf8",
      "metadata": {
        "id": "0990ecf8"
      },
      "source": [
        "##### AS WE CAN SEE, THE AVERAGE SHIPPING DAYS IS EXPEDITED i.e **2-3 DAYS** OR **48-72 hrs**"
      ]
    },
    {
      "cell_type": "markdown",
      "id": "LM3863MiffI7",
      "metadata": {
        "id": "LM3863MiffI7"
      },
      "source": [
        "#### **Evaluating the percentage of orders fulfilled by Amazon vs Merchant**"
      ]
    },
    {
      "cell_type": "code",
      "execution_count": null,
      "id": "bdgiKNEtfxlb",
      "metadata": {
        "colab": {
          "base_uri": "https://localhost:8080/",
          "height": 178
        },
        "id": "bdgiKNEtfxlb",
        "outputId": "ea427e6c-8430-41e1-e470-24e7f929ed4d"
      },
      "outputs": [
        {
          "data": {
            "text/plain": [
              "Amazon      78222\n",
              "Merchant    29973\n",
              "Name: Fulfilment, dtype: int64"
            ]
          },
          "execution_count": 46,
          "metadata": {},
          "output_type": "execute_result"
        }
      ],
      "source": [
        "df['Fulfilment'].value_counts()"
      ]
    },
    {
      "cell_type": "code",
      "execution_count": null,
      "id": "51c13526",
      "metadata": {
        "id": "51c13526"
      },
      "outputs": [],
      "source": [
        "l1=list(df['Fulfilment'].value_counts().index)"
      ]
    },
    {
      "cell_type": "code",
      "execution_count": null,
      "id": "78898ccb",
      "metadata": {
        "colab": {
          "base_uri": "https://localhost:8080/",
          "height": 406
        },
        "id": "78898ccb",
        "outputId": "4ad4c6d4-f770-41f7-8f07-0865b3eec759"
      },
      "outputs": [
        {
          "data": {
            "image/png": "[encoded data removed]",
            "text/plain": [
              "<Figure size 432x288 with 1 Axes>"
            ]
          },
          "metadata": {},
          "output_type": "display_data"
        }
      ],
      "source": [
        "plt.pie(df['Fulfilment'].value_counts(),labels =l1,autopct='%.0f%%')\n",
        "plt.show()"
      ]
    },
    {
      "cell_type": "markdown",
      "id": "62722b51",
      "metadata": {
        "id": "62722b51"
      },
      "source": [
        "##### WE CAN CLEARLY SEE THAT, THE AMAZON HAS TOTAL 72% ORDER FULFILMENT PERCENTAGE, WHEREAS MERCHANT HAS 28%"
      ]
    },
    {
      "cell_type": "markdown",
      "id": "VKJZTmtngErh",
      "metadata": {
        "id": "VKJZTmtngErh"
      },
      "source": [
        "### **Problem Statement 4**\n",
        "#### Enhance product management strategies by identifying popular product categories, and analyzing average quantity ordered."
      ]
    },
    {
      "cell_type": "markdown",
      "id": "xReUnxn3gWcy",
      "metadata": {
        "id": "xReUnxn3gWcy"
      },
      "source": [
        "##### **Popular Product Based On Category**"
      ]
    },
    {
      "cell_type": "code",
      "execution_count": null,
      "id": "e855c1c2",
      "metadata": {
        "colab": {
          "base_uri": "https://localhost:8080/",
          "height": 397
        },
        "id": "e855c1c2",
        "outputId": "ae94ba10-3e5d-420c-d256-99a9273562b5"
      },
      "outputs": [
        {
          "data": {
            "text/plain": [
              "Set              42298\n",
              "kurta            41149\n",
              "Western Dress    13175\n",
              "Top               9299\n",
              "Ethnic Dress       978\n",
              "Blouse             804\n",
              "Bottom             364\n",
              "Saree              127\n",
              "Dupatta              1\n",
              "Name: Category, dtype: int64"
            ]
          },
          "execution_count": 49,
          "metadata": {},
          "output_type": "execute_result"
        }
      ],
      "source": [
        "df['Category'].value_counts()"
      ]
    },
    {
      "cell_type": "markdown",
      "id": "b5f5d3d9",
      "metadata": {
        "id": "b5f5d3d9"
      },
      "source": [
        "##### AS PER THE POPULARITY, **SET** IS THE MOSTLY SOLD CATEGORY"
      ]
    },
    {
      "cell_type": "code",
      "execution_count": null,
      "id": "iiyBjPTkg2Z-",
      "metadata": {
        "id": "iiyBjPTkg2Z-"
      },
      "outputs": [],
      "source": [
        "cat=df['Category'].value_counts()"
      ]
    },
    {
      "cell_type": "code",
      "execution_count": null,
      "id": "1d257d67",
      "metadata": {
        "id": "1d257d67"
      },
      "outputs": [],
      "source": [
        "a={}\n",
        "for i in cat.index:\n",
        "    a[i]=df['Category'].value_counts()[i]/sum(df[df['Category']==i]['Qty'])"
      ]
    },
    {
      "cell_type": "code",
      "execution_count": null,
      "id": "PyIi4_Gawf2Y",
      "metadata": {
        "colab": {
          "base_uri": "https://localhost:8080/",
          "height": 331
        },
        "id": "PyIi4_Gawf2Y",
        "outputId": "4f0088fb-584b-46e8-9bb8-20df446d97c3"
      },
      "outputs": [
        {
          "data": {
            "text/html": [
              "<div>\n",
              "<style scoped>\n",
              "    .dataframe tbody tr th:only-of-type {\n",
              "        vertical-align: middle;\n",
              "    }\n",
              "\n",
              "    .dataframe tbody tr th {\n",
              "        vertical-align: top;\n",
              "    }\n",
              "\n",
              "    .dataframe thead th {\n",
              "        text-align: right;\n",
              "    }\n",
              "</style>\n",
              "<table border=\"1\" class=\"dataframe\">\n",
              "  <thead>\n",
              "    <tr style=\"text-align: right;\">\n",
              "      <th></th>\n",
              "      <th>AVG QTY</th>\n",
              "    </tr>\n",
              "  </thead>\n",
              "  <tbody>\n",
              "    <tr>\n",
              "      <th>Dupatta</th>\n",
              "      <td>1.000000</td>\n",
              "    </tr>\n",
              "    <tr>\n",
              "      <th>Ethnic Dress</th>\n",
              "      <td>0.997959</td>\n",
              "    </tr>\n",
              "    <tr>\n",
              "      <th>Set</th>\n",
              "      <td>0.997406</td>\n",
              "    </tr>\n",
              "    <tr>\n",
              "      <th>Western Dress</th>\n",
              "      <td>0.997049</td>\n",
              "    </tr>\n",
              "    <tr>\n",
              "      <th>Top</th>\n",
              "      <td>0.996784</td>\n",
              "    </tr>\n",
              "    <tr>\n",
              "      <th>kurta</th>\n",
              "      <td>0.995548</td>\n",
              "    </tr>\n",
              "    <tr>\n",
              "      <th>Bottom</th>\n",
              "      <td>0.991826</td>\n",
              "    </tr>\n",
              "    <tr>\n",
              "      <th>Blouse</th>\n",
              "      <td>0.991369</td>\n",
              "    </tr>\n",
              "    <tr>\n",
              "      <th>Saree</th>\n",
              "      <td>0.976923</td>\n",
              "    </tr>\n",
              "  </tbody>\n",
              "</table>\n",
              "</div>"
            ],
            "text/plain": [
              "                AVG QTY\n",
              "Dupatta        1.000000\n",
              "Ethnic Dress   0.997959\n",
              "Set            0.997406\n",
              "Western Dress  0.997049\n",
              "Top            0.996784\n",
              "kurta          0.995548\n",
              "Bottom         0.991826\n",
              "Blouse         0.991369\n",
              "Saree          0.976923"
            ]
          },
          "execution_count": 52,
          "metadata": {},
          "output_type": "execute_result"
        }
      ],
      "source": [
        "pd.DataFrame(data=a.values(),index=a.keys(),columns=['AVG QTY']).sort_values(by='AVG QTY',ascending=False)"
      ]
    },
    {
      "cell_type": "markdown",
      "id": "e5f211c6",
      "metadata": {
        "id": "e5f211c6"
      },
      "source": [
        "##### ABOVE IS THE AVERAGE QUANTITY WITH RESPECT TO THE CATEGORY, AND **WESTERN DRESS** AND **SET** HAVE HIGHEST QTY PER ORDER"
      ]
    },
    {
      "cell_type": "markdown",
      "id": "SYN2rruthIgr",
      "metadata": {
        "id": "SYN2rruthIgr"
      },
      "source": [
        "### **Problem Statement 5**\n",
        "\n",
        "#### Enhance customer satisfaction by analyzing return and cancellation rates, identifying problematic products or categories, and addressing quality issues."
      ]
    },
    {
      "cell_type": "markdown",
      "id": "67c107b3",
      "metadata": {
        "id": "67c107b3"
      },
      "source": [
        "#### **RETURN RATE**"
      ]
    },
    {
      "cell_type": "code",
      "execution_count": null,
      "id": "cdf8a9e0",
      "metadata": {
        "colab": {
          "base_uri": "https://localhost:8080/",
          "height": 491
        },
        "id": "cdf8a9e0",
        "outputId": "bbcb2588-260c-4b07-b7a5-24037848adc7"
      },
      "outputs": [
        {
          "data": {
            "text/plain": [
              "Shipped                          72614\n",
              "Shipped - Delivered to Buyer     26554\n",
              "Cancelled                         5239\n",
              "Shipped - Returned to Seller      1847\n",
              "Shipped - Picked Up                918\n",
              "Pending                            583\n",
              "Pending - Waiting for Pick Up      262\n",
              "Shipped - Returning to Seller      130\n",
              "Shipped - Out for Delivery          32\n",
              "Shipped - Rejected by Buyer         11\n",
              "Shipped - Lost in Transit            4\n",
              "Shipped - Damaged                    1\n",
              "Name: Status, dtype: int64"
            ]
          },
          "execution_count": 53,
          "metadata": {},
          "output_type": "execute_result"
        }
      ],
      "source": [
        "df['Status'].value_counts()"
      ]
    },
    {
      "cell_type": "code",
      "execution_count": null,
      "id": "03c25cec",
      "metadata": {
        "id": "03c25cec"
      },
      "outputs": [],
      "source": [
        "return_orders=len(df[df['Status'].isin(['Shipped - Returned to Seller','Shipped - Returning to Seller'])])"
      ]
    },
    {
      "cell_type": "code",
      "execution_count": null,
      "id": "GbeCeW-NhrAi",
      "metadata": {
        "colab": {
          "base_uri": "https://localhost:8080/"
        },
        "id": "GbeCeW-NhrAi",
        "outputId": "a21732c8-6157-40d6-9c46-99a7ff08c71f"
      },
      "outputs": [
        {
          "data": {
            "text/plain": [
              "1977"
            ]
          },
          "execution_count": 55,
          "metadata": {},
          "output_type": "execute_result"
        }
      ],
      "source": [
        "return_orders"
      ]
    },
    {
      "cell_type": "markdown",
      "id": "c510203c",
      "metadata": {
        "id": "c510203c"
      },
      "source": [
        "##### THERE ARE 1977 ORDERS WHICH ARE RETURNED TO SELLER OR RETURNED"
      ]
    },
    {
      "cell_type": "code",
      "execution_count": null,
      "id": "1c0074ae",
      "metadata": {
        "id": "1c0074ae"
      },
      "outputs": [],
      "source": [
        "return_rate=return_orders/len(df)*100"
      ]
    },
    {
      "cell_type": "code",
      "execution_count": null,
      "id": "b08dec49",
      "metadata": {
        "colab": {
          "base_uri": "https://localhost:8080/"
        },
        "id": "b08dec49",
        "outputId": "90026e59-656f-493e-aca7-4a8b459948c0"
      },
      "outputs": [
        {
          "data": {
            "text/plain": [
              "1.8272563427145432"
            ]
          },
          "execution_count": 57,
          "metadata": {},
          "output_type": "execute_result"
        }
      ],
      "source": [
        "return_rate"
      ]
    },
    {
      "cell_type": "markdown",
      "id": "bmBZj7H4iBQs",
      "metadata": {
        "id": "bmBZj7H4iBQs"
      },
      "source": [
        "#### **CANCEL RATE**"
      ]
    },
    {
      "cell_type": "code",
      "execution_count": null,
      "id": "2a6f8a52",
      "metadata": {
        "id": "2a6f8a52"
      },
      "outputs": [],
      "source": [
        "cancel_orders=len(df[df['Status'].isin(['Cancelled'])])"
      ]
    },
    {
      "cell_type": "code",
      "execution_count": null,
      "id": "9fe602c7",
      "metadata": {
        "id": "9fe602c7"
      },
      "outputs": [],
      "source": [
        "cancel_rate=cancel_orders/len(df)*100"
      ]
    },
    {
      "cell_type": "code",
      "execution_count": null,
      "id": "cc5f6899",
      "metadata": {
        "colab": {
          "base_uri": "https://localhost:8080/"
        },
        "id": "cc5f6899",
        "outputId": "30236a72-bd69-480a-860a-70f8f948edc6"
      },
      "outputs": [
        {
          "data": {
            "text/plain": [
              "4.8421830953371225"
            ]
          },
          "execution_count": 60,
          "metadata": {},
          "output_type": "execute_result"
        }
      ],
      "source": [
        "cancel_rate"
      ]
    },
    {
      "cell_type": "markdown",
      "id": "c08d1d37",
      "metadata": {
        "id": "c08d1d37"
      },
      "source": [
        "##### ABOVE IS THE CANCEL RATE, WHICH IS OF 4%"
      ]
    },
    {
      "cell_type": "markdown",
      "id": "5d023e16",
      "metadata": {
        "id": "5d023e16"
      },
      "source": [
        "#### **Problematic Products**"
      ]
    },
    {
      "cell_type": "code",
      "execution_count": null,
      "id": "3eab958c",
      "metadata": {
        "colab": {
          "base_uri": "https://localhost:8080/",
          "height": 147
        },
        "id": "3eab958c",
        "outputId": "4e9a7d1f-482e-463d-bee3-0dabdb0f388c"
      },
      "outputs": [
        {
          "data": {
            "text/plain": [
              "Shipped - Damaged    1\n",
              "Name: Status, dtype: int64"
            ]
          },
          "execution_count": 62,
          "metadata": {},
          "output_type": "execute_result"
        }
      ],
      "source": [
        "df['Status'].value_counts().tail(1)"
      ]
    },
    {
      "cell_type": "markdown",
      "id": "808e428c",
      "metadata": {
        "id": "808e428c"
      },
      "source": [
        "#### AS WE CAN SEE THERE IS ONLY **1** PROBLEMATIC PRODUCT OBSERVED AMONG THE DATA"
      ]
    },
    {
      "cell_type": "markdown",
      "id": "4_e02DaZitVd",
      "metadata": {
        "id": "4_e02DaZitVd"
      },
      "source": [
        "Thank you!"
      ]
    }
  ],
  "metadata": {
    "colab": {
      "provenance": []
    },
    "kernelspec": {
      "display_name": "Python 3 (ipykernel)",
      "language": "python",
      "name": "python3"
    },
    "language_info": {
      "codemirror_mode": {
        "name": "ipython",
        "version": 3
      },
      "file_extension": ".py",
      "mimetype": "text/x-python",
      "name": "python",
      "nbconvert_exporter": "python",
      "pygments_lexer": "ipython3",
      "version": "3.9.12"
    }
  },
  "nbformat": 4,
  "nbformat_minor": 5
}